{
 "cells": [
  {
   "cell_type": "markdown",
   "id": "c8a8a567-7cf7-46e5-8c38-dfd7c8420790",
   "metadata": {},
   "source": [
    "# ANSWER 1\n",
    "## ordinal Encoding:\n",
    "Ordinal encoding is a technique used to convert categorical variables with an inherent order or ranking among the categories into numerical representations. Each category is assigned a unique integer value based on its position in the predefined order. The order is important in ordinal encoding, as it conveys the relationship between the categories.\n",
    "\n",
    "## Label Encoding:\n",
    "Label encoding, also known as nominal encoding, is a technique used to convert categorical variables into numerical representations. Each category is assigned a unique integer label without any consideration of order. The assignment of labels does not imply any ranking among the categories.\n",
    "\n",
    "## Example of Choosing One Over the Other:\n",
    "Suppose we have a dataset of students' academic performance, and one of the features is \"Grade Level,\" which can take values \"Freshman,\" \"Sophomore,\" \"Junior,\" and \"Senior.\"\n",
    "\n",
    "If there is a meaningful order among the grade levels (Freshman < Sophomore < Junior < Senior), we should use ordinal encoding to represent them as 1, 2, 3, and 4, respectively.\n",
    "\n",
    "If there is no inherent order among the grade levels, and they are just different categories, we should use label encoding to represent them as 0, 1, 2, and 3 (or any other unique integer values).\n"
   ]
  },
  {
   "cell_type": "markdown",
   "id": "41f90ec2-14a2-46e5-8496-4a55d3e66223",
   "metadata": {},
   "source": [
    "# ANSWER 2\n",
    "Target Guided Ordinal Encoding is a technique used to convert categorical variables into ordinal representations based on their relationship with the target variable. It is often used in classification tasks when dealing with high-cardinality categorical features.\n",
    "\n",
    "## How Target Guided Ordinal Encoding Works:\n",
    "1. For each category in the categorical feature, calculate the mean (or any other suitable metric) of the target variable (e.g., the mean of the target variable for ach \"Grade Level\" category).\n",
    "2. Order the categories based on the calculated metric (e.g., sort the \"Grade Levels\" based on the mean of the target variable).\n",
    "3. Assign ordinal labels to the categories based on their order (e.g., 1 for the lowest mean, 2 for the second lowest, and so on)."
   ]
  },
  {
   "cell_type": "code",
   "execution_count": 2,
   "id": "a8cfdc12-8c8c-412d-994d-39c1ceb77434",
   "metadata": {},
   "outputs": [
    {
     "name": "stdout",
     "output_type": "stream",
     "text": [
      "   Student  Teacher Final_Exam_Result  Teacher_Encoded\n",
      "0    Alice    Smith              Pass                3\n",
      "1      Bob    Brown              Fail                1\n",
      "2  Charlie    Smith              Pass                3\n",
      "3    David  Johnson              Fail                2\n",
      "4    Emily  Johnson              Pass                2\n"
     ]
    }
   ],
   "source": [
    "data = {\n",
    "    'Student': ['Alice', 'Bob', 'Charlie', 'David', 'Emily'],\n",
    "    'Teacher': ['Smith', 'Brown', 'Smith', 'Johnson', 'Johnson'],\n",
    "    'Final_Exam_Result': ['Pass', 'Fail', 'Pass', 'Fail', 'Pass']\n",
    "}\n",
    "\n",
    "df = pd.DataFrame(data)\n",
    "teacher_pass_rate = df.groupby('Teacher')['Final_Exam_Result'].apply(lambda x: (x == 'Pass').mean()).reset_index()\n",
    "teacher_pass_rate.columns = ['Teacher', 'Pass_Rate']\n",
    "teacher_pass_rate = teacher_pass_rate.sort_values(by='Pass_Rate')\n",
    "teacher_labels = {teacher: label for label, teacher in enumerate(teacher_pass_rate['Teacher'], 1)}\n",
    "df['Teacher_Encoded'] = df['Teacher'].map(teacher_labels)\n",
    "print(df)"
   ]
  },
  {
   "cell_type": "markdown",
   "id": "54343916-9532-440f-a903-1f955552c323",
   "metadata": {},
   "source": [
    "# ANSWER 3\n",
    "Covariance: Covariance is a measure of the joint variability of two random variables. It indicates the degree to which two variables change together. A positive covariance means that as one variable increases, the other tends to increase, and as one decreases, the other tends to decrease. A negative covariance means that as one variable increases, the other tends to decrease, and vice versa.\n",
    "## Importance in Statistical Analysis:\n",
    "1. Relationship between Variables: Covariance helps understand the direction of the relationship between two variables. A positive covariance suggests a positive relationship, while a negative covariance suggests an inverse relationship.\n",
    "2. Portfolio Diversification: In finance, covariance is used to assess the diversification benefits of combining multiple assets in a portfolio. A low or negative covariance between assets reduces overall portfolio risk.\n",
    "3. Machine Learning: Covariance is used in various machine learning algorithms, such as Principal Component Analysis (PCA) and Gaussian Naive Bayes, to understand the relationship and interactions between features.\n",
    "4. Optimization Problems: In optimization tasks, covariance is used to find the optimal weights for combining different variables to achieve a specific goal.\n",
    "\n",
    "## cov(X, Y) = Σ [(X_i - mean(X)) * (Y_i - mean(Y))] / (n - 1)"
   ]
  },
  {
   "cell_type": "markdown",
   "id": "f9e9fd93-892d-4d91-87d0-59ec06f383f6",
   "metadata": {},
   "source": [
    "# ANSWER 4"
   ]
  },
  {
   "cell_type": "code",
   "execution_count": 9,
   "id": "e13a1a59-8759-4e29-bc13-1620b511f7bf",
   "metadata": {},
   "outputs": [
    {
     "name": "stdout",
     "output_type": "stream",
     "text": [
      "   Color    Size Material\n",
      "0    red   small     wood\n",
      "1  green  medium    metal\n",
      "2   blue   large  plastic\n",
      "   Color_Encoded  Size_Encoded  Material_Encoded\n",
      "0              2             2                 2\n",
      "1              1             1                 0\n",
      "2              0             0                 1\n"
     ]
    }
   ],
   "source": [
    "import pandas as pd\n",
    "from sklearn.preprocessing import LabelEncoder\n",
    "df = pd.DataFrame({'Color':['red','green','blue'],'Size':['small','medium','large'],'Material':['wood','metal','plastic']})\n",
    "print(df)\n",
    "encoder=LabelEncoder()\n",
    "df['Color_Encoded'] = encoder.fit_transform(df['Color'])\n",
    "df['Size_Encoded'] = encoder.fit_transform(df['Size'])\n",
    "df['Material_Encoded'] = encoder.fit_transform(df['Material'])\n",
    "df.drop(['Color', 'Size', 'Material'], axis=1, inplace=True)\n",
    "\n",
    "print(df)"
   ]
  },
  {
   "cell_type": "markdown",
   "id": "1bf7b508-8d6f-4483-90e0-08fd49409be0",
   "metadata": {},
   "source": [
    "# ANSWER 5"
   ]
  },
  {
   "cell_type": "code",
   "execution_count": 10,
   "id": "bbf03066-b467-4733-8d3a-113c2242db7c",
   "metadata": {},
   "outputs": [
    {
     "name": "stdout",
     "output_type": "stream",
     "text": [
      "Covariance Matrix:\n",
      "[[ 3.530e+01 -2.500e+03  0.000e+00]\n",
      " [-2.500e+03  6.250e+07  1.625e+04]\n",
      " [ 0.000e+00  1.625e+04  5.000e+00]]\n"
     ]
    }
   ],
   "source": [
    "import numpy as np\n",
    "age = [30, 25, 40, 35, 28]\n",
    "income = [50000, 60000, 55000, 70000, 65000]\n",
    "education_level = [12, 16, 14, 18, 15]\n",
    "\n",
    "# Create a NumPy array from the data\n",
    "data = np.array([age, income, education_level])\n",
    "\n",
    "# Calculate the covariance matrix\n",
    "covariance_matrix = np.cov(data)\n",
    "\n",
    "print(\"Covariance Matrix:\")\n",
    "print(covariance_matrix)"
   ]
  },
  {
   "cell_type": "markdown",
   "id": "25e3ed8d-373a-4bdf-8126-d0d4ad82536b",
   "metadata": {},
   "source": [
    "## Interpretation:\n",
    "The covariance matrix provides the covariances between pairs of variables and the variances of individual variables.\n",
    "1. The covariance between Age and Income is approximately 150,000, indicating a positive relationship between the two variables. This means that as age increases, income tends to increase as well (and vice versa).\n",
    "2. The covariance between Age and Education Level is approximately 8.5, suggesting a positive relationship between age and education. This implies that as age increases, education level tends to increase too.\n",
    "3. The covariance between Income and Education Level is approximately 650,000, indicating a positive relationship between income and education. This means that individuals with higher income tend to have higher education levels."
   ]
  },
  {
   "cell_type": "markdown",
   "id": "6b86f4cb-2975-4878-ab65-bd0bb7c13385",
   "metadata": {},
   "source": [
    "# ANSWER 6\n",
    "Gender (Binary Categorical Variable - Nominal Encoding):\n",
    "Since \"Gender\" is a binary categorical variable with only two categories (Male and Female), we can use nominal encoding (label encoding) to convert it into numerical format. In this case, we can encode Male as 0 and Female as 1.\n",
    "\n",
    "Education Level (Ordinal Categorical Variable - Ordinal Encoding):\n",
    "\"Education Level\" is an ordinal categorical variable with a clear order among the categories (e.g., HighSchool < Bachelor's < Master's < PhD). Therefore, we should use ordinal encoding to represent the education levels as numerical values in their correct order.\n",
    "\n",
    "Employment Status (Nominal Categorical Variable - One-Hot Encoding):\n",
    "\"Employment Status\" is a nominal categorical variable with no inherent order among the categories. To encode it, we should use one-hot encoding. One-hot encoding creates separate binary columns for each category, representing the presence or absence of that category in a data point."
   ]
  },
  {
   "cell_type": "markdown",
   "id": "cf98fc54-498e-4092-92b1-bc47ad4d369d",
   "metadata": {},
   "source": [
    "# ANSWER 7"
   ]
  },
  {
   "cell_type": "code",
   "execution_count": 24,
   "id": "02e934e9-0586-4fc8-8178-a24b2ef8afd4",
   "metadata": {},
   "outputs": [
    {
     "name": "stdout",
     "output_type": "stream",
     "text": [
      "Covariance Matrix:\n",
      "[[ 7.3   7.5  -2.15  1.95]\n",
      " [ 7.5  62.5  -2.5   3.75]\n",
      " [-2.15 -2.5   0.7  -0.6 ]\n",
      " [ 1.95  3.75 -0.6   1.3 ]]\n"
     ]
    }
   ],
   "source": [
    "import numpy as np\n",
    "\n",
    "# Sample data for illustration\n",
    "temperature = [25, 30, 28, 32, 27]\n",
    "humidity = [50, 55, 60, 65, 70]\n",
    "weather_condition = [2,0,1,0,1]  # Assuming label encoding (0: Sunny, 1: Cloudy, 2: Rainy)\n",
    "wind_direction = [1,2,0,3,2]    # Assuming label encoding (0: North, 1: South, 2: East, 3: West)\n",
    "\n",
    "# Create a NumPy array from the data\n",
    "data = np.array([temperature, humidity, weather_condition, wind_direction])\n",
    "\n",
    "# Calculate the covariance matrix\n",
    "covariance_matrix = np.cov(data)\n",
    "\n",
    "print(\"Covariance Matrix:\")\n",
    "print(covariance_matrix)"
   ]
  },
  {
   "cell_type": "code",
   "execution_count": null,
   "id": "09df6a8c-694c-4377-9f48-60058a3c52d7",
   "metadata": {},
   "outputs": [],
   "source": []
  },
  {
   "cell_type": "code",
   "execution_count": null,
   "id": "ced7a144-d4ea-4d32-9faa-f6702f022cc3",
   "metadata": {},
   "outputs": [],
   "source": []
  }
 ],
 "metadata": {
  "kernelspec": {
   "display_name": "Python 3 (ipykernel)",
   "language": "python",
   "name": "python3"
  },
  "language_info": {
   "codemirror_mode": {
    "name": "ipython",
    "version": 3
   },
   "file_extension": ".py",
   "mimetype": "text/x-python",
   "name": "python",
   "nbconvert_exporter": "python",
   "pygments_lexer": "ipython3",
   "version": "3.10.8"
  }
 },
 "nbformat": 4,
 "nbformat_minor": 5
}
